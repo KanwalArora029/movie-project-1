{
 "cells": [
  {
   "cell_type": "code",
   "execution_count": 2,
   "metadata": {},
   "outputs": [],
   "source": [
    "import requests\n",
    "import json\n",
    "from bs4 import BeautifulSoup as BS\n",
    "import time\n",
    "import mysql.connector\n",
    "import numpy as np\n",
    "import re\n",
    "import pandas as pd\n",
    "import aws_config\n",
    "import matplotlib.pyplot as plt\n",
    "%matplotlib inline"
   ]
  },
  {
   "cell_type": "code",
   "execution_count": 3,
   "metadata": {},
   "outputs": [],
   "source": [
    "cnx = mysql.connector.connect(\n",
    "    host = aws_config.host,\n",
    "    user = aws_config.user,\n",
    "    password = aws_config.passwd)\n",
    "\n",
    "\n",
    "# create cursor object\n",
    "c = cnx.cursor()\n",
    "cnx.database = 'movie_project'"
   ]
  },
  {
   "cell_type": "code",
   "execution_count": null,
   "metadata": {},
   "outputs": [],
   "source": [
    "#c.execute(\"\"\"CREATE database movie_project\"\"\")"
   ]
  },
  {
   "cell_type": "code",
   "execution_count": 4,
   "metadata": {},
   "outputs": [],
   "source": [
    "url1 = 'https://www.imdb.com/search/title/?title_type=feature&release_date=2000-01-01,2019-12-31&genres=comedy&sort=boxoffice_gross_us,desc&count=250&ref_=adv_prv'\n",
    "url2 = 'https://www.imdb.com/search/title/?title_type=feature&release_date=2000-01-01,2019-12-31&genres=comedy&sort=boxoffice_gross_us,desc&count=250&start=251&ref_=adv_nxt'\n",
    "url3 = 'https://www.imdb.com/search/title/?title_type=feature&release_date=2000-01-01,2019-12-31&genres=comedy&sort=boxoffice_gross_us,desc&count=250&start=501&ref_=adv_nxt'\n",
    "url4 = 'https://www.imdb.com/search/title/?title_type=feature&release_date=2000-01-01,2019-12-31&genres=comedy&sort=boxoffice_gross_us,desc&count=250&start=751&ref_=adv_nxt'\n",
    "#response = requests.get(url)\n",
    "all_urls = [url1, url2, url3, url4]"
   ]
  },
  {
   "cell_type": "code",
   "execution_count": 5,
   "metadata": {},
   "outputs": [],
   "source": [
    "num_votes = []\n",
    "box_office = []\n",
    "\n",
    "for i in range(len(all_urls)):\n",
    "    response = requests.get(all_urls[i])\n",
    "    soup = BS(response.text, 'html.parser')\n",
    "    num_votes_visible = soup.find_all('p', class_='sort-num_votes-visible')\n",
    "    num_votes.append(num_votes_visible)\n",
    "    \n"
   ]
  },
  {
   "cell_type": "code",
   "execution_count": 6,
   "metadata": {},
   "outputs": [],
   "source": [
    "first = num_votes[0]\n",
    "second = num_votes[1]\n",
    "third = num_votes[2]\n",
    "fourth = num_votes[3]"
   ]
  },
  {
   "cell_type": "code",
   "execution_count": 7,
   "metadata": {},
   "outputs": [
    {
     "name": "stdout",
     "output_type": "stream",
     "text": [
      "250\n"
     ]
    }
   ],
   "source": [
    "print(len(first))"
   ]
  },
  {
   "cell_type": "code",
   "execution_count": 8,
   "metadata": {},
   "outputs": [],
   "source": [
    "new_cool_bucket = []\n",
    "def box_office(number):\n",
    "    for num in number:\n",
    "        for x in range(0, 1000):\n",
    "            try: \n",
    "                i = (num.find_all('span')[x])\n",
    "                #ids.append(i['data-value'])\n",
    "                new_cool_bucket.append(i['data-value'])\n",
    "            except:\n",
    "                continue"
   ]
  },
  {
   "cell_type": "code",
   "execution_count": 9,
   "metadata": {},
   "outputs": [],
   "source": [
    "box_office(first)\n",
    "box_office(second)\n",
    "box_office(third)\n",
    "box_office(fourth)\n"
   ]
  },
  {
   "cell_type": "code",
   "execution_count": 10,
   "metadata": {},
   "outputs": [
    {
     "name": "stdout",
     "output_type": "stream",
     "text": [
      "1999\n"
     ]
    }
   ],
   "source": [
    "print(len(new_cool_bucket))"
   ]
  },
  {
   "cell_type": "code",
   "execution_count": 11,
   "metadata": {
    "scrolled": true
   },
   "outputs": [],
   "source": [
    "box_office_gross = new_cool_bucket[1::2]"
   ]
  },
  {
   "cell_type": "code",
   "execution_count": 12,
   "metadata": {},
   "outputs": [],
   "source": [
    "# new_bucket = []\n",
    "# for i in range(len(new_cool_bucket)):\n",
    "#      x = new_cool_bucket[i]\n",
    "#     new_bucket.append(x.replace(\",\", \"\"))\n",
    "#     print(new_bucket)"
   ]
  },
  {
   "cell_type": "code",
   "execution_count": 13,
   "metadata": {},
   "outputs": [],
   "source": [
    "#box_office_gross"
   ]
  },
  {
   "cell_type": "code",
   "execution_count": 14,
   "metadata": {},
   "outputs": [],
   "source": [
    "#function to get imdb id's\n",
    "\n",
    "def get_url(urls):\n",
    "    response = requests.get(urls)\n",
    "    soup = BS(response.text, 'html.parser')\n",
    "    urls = soup.find_all('div', class_='lister-list')\n",
    "    return urls"
   ]
  },
  {
   "cell_type": "code",
   "execution_count": 15,
   "metadata": {},
   "outputs": [],
   "source": [
    "#function to get imdb box office gross\n",
    "\n",
    "def get_box_url(url):\n",
    "    response = requests.get(url)\n",
    "    soup = bs(response.text, 'html.parser')\n",
    "    num_votes_vis = soup.find_all('p', class_='sort-num_votes-visble')\n",
    "    return num_votes_vis"
   ]
  },
  {
   "cell_type": "code",
   "execution_count": 16,
   "metadata": {},
   "outputs": [],
   "source": [
    "imdb_url1 = get_url(url1)\n",
    "imdb_url2 = get_url(url2)\n",
    "imdb_url3 = get_url(url3)\n",
    "imdb_url4 = get_url(url4)"
   ]
  },
  {
   "cell_type": "code",
   "execution_count": 17,
   "metadata": {},
   "outputs": [],
   "source": [
    "#Gets unique imdb id's from url\n",
    "\n",
    "def get_movie_id(url_list):\n",
    "    ids = []\n",
    "    for result in url_list:\n",
    "        for x in range(0, 250):\n",
    "            try:\n",
    "                i = (result.find_all('img')[x])\n",
    "                ids.append(i['data-tconst'])\n",
    "            except:\n",
    "                continue\n",
    "        return ids"
   ]
  },
  {
   "cell_type": "code",
   "execution_count": 18,
   "metadata": {},
   "outputs": [],
   "source": [
    "imdb_ids1 = get_movie_id(imdb_url1)\n",
    "imdb_ids2 = get_movie_id(imdb_url2)\n",
    "imdb_ids3 = get_movie_id(imdb_url3)\n",
    "imdb_ids4 = get_movie_id(imdb_url4)\n"
   ]
  },
  {
   "cell_type": "code",
   "execution_count": 19,
   "metadata": {},
   "outputs": [],
   "source": [
    "#takes unique imdb id's and concatenates them with api key\n",
    "\n",
    "def make_api_keys(ids):\n",
    "    big_list = []\n",
    "    for i in range(len(ids)):\n",
    "        url = f'http://www.omdbapi.com/?i={ids[i]}&apikey=bb8ea380'\n",
    "        big_list.append(url) \n",
    "    return big_list\n"
   ]
  },
  {
   "cell_type": "code",
   "execution_count": 20,
   "metadata": {},
   "outputs": [],
   "source": [
    "imdb_api_keys1 = make_api_keys(imdb_ids1)\n",
    "imdb_api_keys2 = make_api_keys(imdb_ids2)\n",
    "imdb_api_keys3 = make_api_keys(imdb_ids3)\n",
    "imdb_api_keys4 = make_api_keys(imdb_ids4)"
   ]
  },
  {
   "cell_type": "code",
   "execution_count": 21,
   "metadata": {},
   "outputs": [],
   "source": [
    "def make_api_calls(api_keys):\n",
    "    movie_data = []\n",
    "    for i in range(0,250):\n",
    "        url = api_keys[i]\n",
    "        response = requests.get(url)\n",
    "        data = response.json()\n",
    "        movie_data.append(data)\n",
    "    return movie_data\n",
    "    "
   ]
  },
  {
   "cell_type": "code",
   "execution_count": 22,
   "metadata": {},
   "outputs": [],
   "source": [
    "#makingi api calls\n",
    "movies_1 = make_api_calls(imdb_api_keys1)\n",
    "movies_2 = make_api_calls(imdb_api_keys2)\n",
    "movies_3 = make_api_calls(imdb_api_keys3)\n",
    "movies_4 = make_api_calls(imdb_api_keys4)"
   ]
  },
  {
   "cell_type": "code",
   "execution_count": 23,
   "metadata": {},
   "outputs": [],
   "source": [
    "def movie_parser(movie_data):\n",
    "    new_parsed_movies = []\n",
    "    for i in range(len(movie_data)):\n",
    "        try:\n",
    "            new = (movie_data[i])\n",
    "            #box_office = odd[i]\n",
    "            [(v,k) for k, v in new.items()]\n",
    "            imdb = new['Ratings'][0]\n",
    "            im = (imdb['Value'])\n",
    "            im_new = im.rpartition('/')[0]\n",
    "            rotten_tomatoes = new['Ratings'][1]\n",
    "            r = (rotten_tomatoes['Value'])\n",
    "            r_new = r.rpartition('%')[0]\n",
    "            metacritic = new['Ratings'][2]\n",
    "            m = (metacritic['Value'])\n",
    "            m_new = m.rpartition('/')[0]\n",
    "            ratings = (new['Ratings'])\n",
    "            runtime = new['Runtime']\n",
    "            new_runtime = runtime.rpartition(' ')[0]\n",
    "            new_genre = new['Genre']\n",
    "            newer_genre = f'\"{new_genre}\"'\n",
    "            new_tuple = (new['Title'], new['Year'], new_runtime, \n",
    "                            newer_genre, new['Director'], im_new, float(r_new), m_new, box_office_gross[i])\n",
    "            new_parsed_movies.append(new_tuple)\n",
    "        except IndexError:\n",
    "             print(\"elements missing!!!!\")  \n",
    "    return new_parsed_movies"
   ]
  },
  {
   "cell_type": "code",
   "execution_count": 24,
   "metadata": {},
   "outputs": [
    {
     "name": "stdout",
     "output_type": "stream",
     "text": [
      "elements missing!!!!\n",
      "elements missing!!!!\n",
      "elements missing!!!!\n",
      "elements missing!!!!\n",
      "elements missing!!!!\n",
      "elements missing!!!!\n",
      "elements missing!!!!\n",
      "elements missing!!!!\n",
      "elements missing!!!!\n",
      "elements missing!!!!\n",
      "elements missing!!!!\n",
      "elements missing!!!!\n",
      "elements missing!!!!\n"
     ]
    }
   ],
   "source": [
    "#parse desired values into tuples\n",
    "\n",
    "parsed_1 = movie_parser(movies_1)\n",
    "parsed_2 = movie_parser(movies_2)\n",
    "parsed_3 = movie_parser(movies_3)\n",
    "#parsed_4 = movie_parser(movies_4)"
   ]
  },
  {
   "cell_type": "code",
   "execution_count": 26,
   "metadata": {},
   "outputs": [],
   "source": [
    "create_table = \"\"\"CREATE TABLE movie\n",
    "(title varchar(100) PRIMARY KEY,\n",
    "year int(11),\n",
    "runtime int(11),\n",
    "genre varchar(100),\n",
    "director varchar(100),\n",
    "imdb_rating float,\n",
    "rotten_tomatoes int(5),\n",
    "metacritic_rating int(11),\n",
    "box_office varchar(100));\n",
    "\"\"\"\n",
    "c.execute(create_table)"
   ]
  },
  {
   "cell_type": "code",
   "execution_count": 27,
   "metadata": {},
   "outputs": [],
   "source": [
    "def db_insert(cnx, c, parsed_results):\n",
    "        stmnt = \"\"\"\n",
    "        INSERT INTO movie(title, year, runtime, genre, director, imdb_rating, rotten_tomatoes, metacritic_rating, box_office)\n",
    "        VALUES(%s, %s, %s, %s, %s, %s, %s, %s, %s);\n",
    "        \"\"\"      \n",
    "        c.executemany(stmnt, parsed_results)\n",
    "        cnx.commit()"
   ]
  },
  {
   "cell_type": "code",
   "execution_count": 28,
   "metadata": {},
   "outputs": [],
   "source": [
    "db_insert(cnx, c, parsed_1)\n",
    "db_insert(cnx, c, parsed_2)\n",
    "db_insert(cnx, c, parsed_3)"
   ]
  },
  {
   "cell_type": "code",
   "execution_count": null,
   "metadata": {},
   "outputs": [],
   "source": []
  }
 ],
 "metadata": {
  "kernelspec": {
   "display_name": "Python 3",
   "language": "python",
   "name": "python3"
  },
  "language_info": {
   "codemirror_mode": {
    "name": "ipython",
    "version": 3
   },
   "file_extension": ".py",
   "mimetype": "text/x-python",
   "name": "python",
   "nbconvert_exporter": "python",
   "pygments_lexer": "ipython3",
   "version": "3.7.4"
  }
 },
 "nbformat": 4,
 "nbformat_minor": 4
}
